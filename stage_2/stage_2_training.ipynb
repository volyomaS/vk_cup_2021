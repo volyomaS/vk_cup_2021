{
 "cells": [
  {
   "cell_type": "markdown",
   "metadata": {},
   "source": [
    "# Installing and importing"
   ]
  },
  {
   "cell_type": "code",
   "execution_count": null,
   "metadata": {},
   "outputs": [],
   "source": [
    "!wget -O friends.csv https://cups.mail.ru/api_v2/task/1100/100\n",
    "!wget -O train.csv https://cups.mail.ru/api_v2/task/1100/101\n",
    "!wget -O trainEducationalFeatures.csv https://cups.mail.ru/api_v2/task/1100/102\n",
    "!wget -O trainGroups.csv https://cups.mail.ru/api_v2/task/1100/103"
   ]
  },
  {
   "cell_type": "code",
   "execution_count": null,
   "metadata": {},
   "outputs": [],
   "source": [
    "!pip install catboost"
   ]
  },
  {
   "cell_type": "code",
   "execution_count": 5,
   "metadata": {},
   "outputs": [],
   "source": [
    "import warnings\n",
    "warnings.filterwarnings(\"ignore\")"
   ]
  },
  {
   "cell_type": "code",
   "execution_count": 130,
   "metadata": {},
   "outputs": [],
   "source": [
    "# data\n",
    "import pandas as pd\n",
    "import numpy as np\n",
    "import matplotlib.pyplot as plt\n",
    "\n",
    "# models\n",
    "from sklearn.ensemble import RandomForestRegressor\n",
    "from sklearn.linear_model import LinearRegression\n",
    "from sklearn.neighbors import KNeighborsRegressor\n",
    "from sklearn.svm import SVR\n",
    "from catboost import CatBoostRegressor\n",
    "\n",
    "# NN\n",
    "import keras\n",
    "\n",
    "# other\n",
    "from typing import List, Tuple\n",
    "import pickle\n",
    "from sklearn.model_selection import train_test_split\n",
    "from sklearn.metrics import mean_squared_error\n",
    "from sklearn.preprocessing import MinMaxScaler"
   ]
  },
  {
   "cell_type": "markdown",
   "metadata": {},
   "source": [
    "# Score function"
   ]
  },
  {
   "cell_type": "code",
   "execution_count": 7,
   "metadata": {},
   "outputs": [],
   "source": [
    "def score(y_test, y_pred):\n",
    "    return 1 / (mean_squared_error(y_test, y_pred) ** 0.5)"
   ]
  },
  {
   "cell_type": "markdown",
   "metadata": {},
   "source": [
    "# Data reading"
   ]
  },
  {
   "cell_type": "code",
   "execution_count": 8,
   "metadata": {
    "tags": []
   },
   "outputs": [],
   "source": [
    "friends = pd.read_csv(\"friends.csv\")\n",
    "train = pd.read_csv(\"train.csv\")\n",
    "trainEducationFeatures = pd.read_csv(\"trainEducationFeatures.csv\")\n",
    "trainGroups = pd.read_csv(\"trainGroups.csv\")"
   ]
  },
  {
   "cell_type": "markdown",
   "metadata": {},
   "source": [
    "# Small EDA"
   ]
  },
  {
   "cell_type": "code",
   "execution_count": 9,
   "metadata": {},
   "outputs": [
    {
     "data": {
      "text/html": [
       "<div>\n",
       "<style scoped>\n",
       "    .dataframe tbody tr th:only-of-type {\n",
       "        vertical-align: middle;\n",
       "    }\n",
       "\n",
       "    .dataframe tbody tr th {\n",
       "        vertical-align: top;\n",
       "    }\n",
       "\n",
       "    .dataframe thead th {\n",
       "        text-align: right;\n",
       "    }\n",
       "</style>\n",
       "<table border=\"1\" class=\"dataframe\">\n",
       "  <thead>\n",
       "    <tr style=\"text-align: right;\">\n",
       "      <th></th>\n",
       "      <th>uid</th>\n",
       "      <th>fuid</th>\n",
       "    </tr>\n",
       "  </thead>\n",
       "  <tbody>\n",
       "    <tr>\n",
       "      <th>0</th>\n",
       "      <td>105728</td>\n",
       "      <td>104361</td>\n",
       "    </tr>\n",
       "    <tr>\n",
       "      <th>1</th>\n",
       "      <td>2026</td>\n",
       "      <td>38044</td>\n",
       "    </tr>\n",
       "    <tr>\n",
       "      <th>2</th>\n",
       "      <td>107090</td>\n",
       "      <td>6391</td>\n",
       "    </tr>\n",
       "    <tr>\n",
       "      <th>3</th>\n",
       "      <td>88157</td>\n",
       "      <td>6391</td>\n",
       "    </tr>\n",
       "    <tr>\n",
       "      <th>4</th>\n",
       "      <td>49843</td>\n",
       "      <td>6391</td>\n",
       "    </tr>\n",
       "  </tbody>\n",
       "</table>\n",
       "</div>"
      ],
      "text/plain": [
       "      uid    fuid\n",
       "0  105728  104361\n",
       "1    2026   38044\n",
       "2  107090    6391\n",
       "3   88157    6391\n",
       "4   49843    6391"
      ]
     },
     "execution_count": 9,
     "metadata": {},
     "output_type": "execute_result"
    }
   ],
   "source": [
    "friends.head()"
   ]
  },
  {
   "cell_type": "code",
   "execution_count": 10,
   "metadata": {},
   "outputs": [
    {
     "data": {
      "text/plain": [
       "(4109877, 2)"
      ]
     },
     "execution_count": 10,
     "metadata": {},
     "output_type": "execute_result"
    }
   ],
   "source": [
    "friends.shape"
   ]
  },
  {
   "cell_type": "code",
   "execution_count": 11,
   "metadata": {},
   "outputs": [
    {
     "data": {
      "text/plain": [
       "uid     0\n",
       "fuid    0\n",
       "dtype: int64"
      ]
     },
     "execution_count": 11,
     "metadata": {},
     "output_type": "execute_result"
    }
   ],
   "source": [
    "friends.isna().sum()"
   ]
  },
  {
   "cell_type": "code",
   "execution_count": 12,
   "metadata": {
    "tags": []
   },
   "outputs": [],
   "source": [
    "f = {}\n",
    "for i in friends.index:\n",
    "    uid, fuid = friends.at[i, \"uid\"], friends.at[i, \"fuid\"]\n",
    "    f[uid] = f.setdefault(uid, 0) + 1\n",
    "    f[fuid] = f.setdefault(fuid, 0) + 1\n",
    "fv = list(f.values())"
   ]
  },
  {
   "cell_type": "code",
   "execution_count": 33,
   "metadata": {},
   "outputs": [
    {
     "data": {
      "image/png": "[encoded data removed]",
      "text/plain": [
       "<Figure size 432x288 with 1 Axes>"
      ]
     },
     "metadata": {
      "needs_background": "light"
     },
     "output_type": "display_data"
    }
   ],
   "source": [
    "plt.hist(fv, bins=list(range(0, 200, 5)))\n",
    "plt.show()"
   ]
  },
  {
   "cell_type": "markdown",
   "metadata": {},
   "source": [
    "Main amount of friends count is between 0 and 50"
   ]
  },
  {
   "cell_type": "code",
   "execution_count": 14,
   "metadata": {},
   "outputs": [
    {
     "data": {
      "text/html": [
       "<div>\n",
       "<style scoped>\n",
       "    .dataframe tbody tr th:only-of-type {\n",
       "        vertical-align: middle;\n",
       "    }\n",
       "\n",
       "    .dataframe tbody tr th {\n",
       "        vertical-align: top;\n",
       "    }\n",
       "\n",
       "    .dataframe thead th {\n",
       "        text-align: right;\n",
       "    }\n",
       "</style>\n",
       "<table border=\"1\" class=\"dataframe\">\n",
       "  <thead>\n",
       "    <tr style=\"text-align: right;\">\n",
       "      <th></th>\n",
       "      <th>uid</th>\n",
       "      <th>age</th>\n",
       "      <th>registered_year</th>\n",
       "    </tr>\n",
       "  </thead>\n",
       "  <tbody>\n",
       "    <tr>\n",
       "      <th>0</th>\n",
       "      <td>85788</td>\n",
       "      <td>32</td>\n",
       "      <td>2020</td>\n",
       "    </tr>\n",
       "    <tr>\n",
       "      <th>1</th>\n",
       "      <td>19171</td>\n",
       "      <td>30</td>\n",
       "      <td>2009</td>\n",
       "    </tr>\n",
       "    <tr>\n",
       "      <th>2</th>\n",
       "      <td>7780</td>\n",
       "      <td>51</td>\n",
       "      <td>2012</td>\n",
       "    </tr>\n",
       "    <tr>\n",
       "      <th>3</th>\n",
       "      <td>14998</td>\n",
       "      <td>17</td>\n",
       "      <td>2019</td>\n",
       "    </tr>\n",
       "    <tr>\n",
       "      <th>4</th>\n",
       "      <td>94913</td>\n",
       "      <td>33</td>\n",
       "      <td>2010</td>\n",
       "    </tr>\n",
       "  </tbody>\n",
       "</table>\n",
       "</div>"
      ],
      "text/plain": [
       "     uid  age  registered_year\n",
       "0  85788   32             2020\n",
       "1  19171   30             2009\n",
       "2   7780   51             2012\n",
       "3  14998   17             2019\n",
       "4  94913   33             2010"
      ]
     },
     "execution_count": 14,
     "metadata": {},
     "output_type": "execute_result"
    }
   ],
   "source": [
    "train.head()"
   ]
  },
  {
   "cell_type": "code",
   "execution_count": 15,
   "metadata": {},
   "outputs": [
    {
     "data": {
      "text/plain": [
       "(29469, 3)"
      ]
     },
     "execution_count": 15,
     "metadata": {},
     "output_type": "execute_result"
    }
   ],
   "source": [
    "train.shape"
   ]
  },
  {
   "cell_type": "code",
   "execution_count": 16,
   "metadata": {},
   "outputs": [
    {
     "data": {
      "text/plain": [
       "uid                0\n",
       "age                0\n",
       "registered_year    0\n",
       "dtype: int64"
      ]
     },
     "execution_count": 16,
     "metadata": {},
     "output_type": "execute_result"
    }
   ],
   "source": [
    "train.isna().sum()"
   ]
  },
  {
   "cell_type": "code",
   "execution_count": 17,
   "metadata": {},
   "outputs": [
    {
     "data": {
      "text/html": [
       "<div>\n",
       "<style scoped>\n",
       "    .dataframe tbody tr th:only-of-type {\n",
       "        vertical-align: middle;\n",
       "    }\n",
       "\n",
       "    .dataframe tbody tr th {\n",
       "        vertical-align: top;\n",
       "    }\n",
       "\n",
       "    .dataframe thead th {\n",
       "        text-align: right;\n",
       "    }\n",
       "</style>\n",
       "<table border=\"1\" class=\"dataframe\">\n",
       "  <thead>\n",
       "    <tr style=\"text-align: right;\">\n",
       "      <th></th>\n",
       "      <th>uid</th>\n",
       "      <th>school_education</th>\n",
       "      <th>graduation_1</th>\n",
       "      <th>graduation_2</th>\n",
       "      <th>graduation_3</th>\n",
       "      <th>graduation_4</th>\n",
       "      <th>graduation_5</th>\n",
       "      <th>graduation_6</th>\n",
       "      <th>graduation_7</th>\n",
       "    </tr>\n",
       "  </thead>\n",
       "  <tbody>\n",
       "    <tr>\n",
       "      <th>0</th>\n",
       "      <td>356</td>\n",
       "      <td>NaN</td>\n",
       "      <td>NaN</td>\n",
       "      <td>NaN</td>\n",
       "      <td>NaN</td>\n",
       "      <td>NaN</td>\n",
       "      <td>NaN</td>\n",
       "      <td>NaN</td>\n",
       "      <td>NaN</td>\n",
       "    </tr>\n",
       "    <tr>\n",
       "      <th>1</th>\n",
       "      <td>26356</td>\n",
       "      <td>NaN</td>\n",
       "      <td>NaN</td>\n",
       "      <td>NaN</td>\n",
       "      <td>NaN</td>\n",
       "      <td>NaN</td>\n",
       "      <td>2006.0</td>\n",
       "      <td>NaN</td>\n",
       "      <td>NaN</td>\n",
       "    </tr>\n",
       "    <tr>\n",
       "      <th>2</th>\n",
       "      <td>97</td>\n",
       "      <td>NaN</td>\n",
       "      <td>NaN</td>\n",
       "      <td>NaN</td>\n",
       "      <td>NaN</td>\n",
       "      <td>NaN</td>\n",
       "      <td>NaN</td>\n",
       "      <td>NaN</td>\n",
       "      <td>NaN</td>\n",
       "    </tr>\n",
       "    <tr>\n",
       "      <th>3</th>\n",
       "      <td>319</td>\n",
       "      <td>NaN</td>\n",
       "      <td>NaN</td>\n",
       "      <td>NaN</td>\n",
       "      <td>NaN</td>\n",
       "      <td>NaN</td>\n",
       "      <td>NaN</td>\n",
       "      <td>NaN</td>\n",
       "      <td>NaN</td>\n",
       "    </tr>\n",
       "    <tr>\n",
       "      <th>4</th>\n",
       "      <td>30288</td>\n",
       "      <td>2008.0</td>\n",
       "      <td>NaN</td>\n",
       "      <td>NaN</td>\n",
       "      <td>NaN</td>\n",
       "      <td>NaN</td>\n",
       "      <td>2013.0</td>\n",
       "      <td>NaN</td>\n",
       "      <td>NaN</td>\n",
       "    </tr>\n",
       "  </tbody>\n",
       "</table>\n",
       "</div>"
      ],
      "text/plain": [
       "     uid  school_education  graduation_1  graduation_2  graduation_3  \\\n",
       "0    356               NaN           NaN           NaN           NaN   \n",
       "1  26356               NaN           NaN           NaN           NaN   \n",
       "2     97               NaN           NaN           NaN           NaN   \n",
       "3    319               NaN           NaN           NaN           NaN   \n",
       "4  30288            2008.0           NaN           NaN           NaN   \n",
       "\n",
       "   graduation_4  graduation_5  graduation_6  graduation_7  \n",
       "0           NaN           NaN           NaN           NaN  \n",
       "1           NaN        2006.0           NaN           NaN  \n",
       "2           NaN           NaN           NaN           NaN  \n",
       "3           NaN           NaN           NaN           NaN  \n",
       "4           NaN        2013.0           NaN           NaN  "
      ]
     },
     "execution_count": 17,
     "metadata": {},
     "output_type": "execute_result"
    }
   ],
   "source": [
    "trainEducationFeatures.head()"
   ]
  },
  {
   "cell_type": "code",
   "execution_count": 18,
   "metadata": {},
   "outputs": [
    {
     "data": {
      "text/plain": [
       "(29469, 9)"
      ]
     },
     "execution_count": 18,
     "metadata": {},
     "output_type": "execute_result"
    }
   ],
   "source": [
    "trainEducationFeatures.shape"
   ]
  },
  {
   "cell_type": "code",
   "execution_count": 19,
   "metadata": {},
   "outputs": [
    {
     "data": {
      "text/plain": [
       "uid                     0\n",
       "school_education    20355\n",
       "graduation_1        29418\n",
       "graduation_2        28867\n",
       "graduation_3        29149\n",
       "graduation_4        29417\n",
       "graduation_5        27683\n",
       "graduation_6        29118\n",
       "graduation_7        29299\n",
       "dtype: int64"
      ]
     },
     "execution_count": 19,
     "metadata": {},
     "output_type": "execute_result"
    }
   ],
   "source": [
    "trainEducationFeatures.isna().sum()"
   ]
  },
  {
   "cell_type": "code",
   "execution_count": 20,
   "metadata": {},
   "outputs": [
    {
     "data": {
      "text/html": [
       "<div>\n",
       "<style scoped>\n",
       "    .dataframe tbody tr th:only-of-type {\n",
       "        vertical-align: middle;\n",
       "    }\n",
       "\n",
       "    .dataframe tbody tr th {\n",
       "        vertical-align: top;\n",
       "    }\n",
       "\n",
       "    .dataframe thead th {\n",
       "        text-align: right;\n",
       "    }\n",
       "</style>\n",
       "<table border=\"1\" class=\"dataframe\">\n",
       "  <thead>\n",
       "    <tr style=\"text-align: right;\">\n",
       "      <th></th>\n",
       "      <th>uid</th>\n",
       "      <th>gid</th>\n",
       "    </tr>\n",
       "  </thead>\n",
       "  <tbody>\n",
       "    <tr>\n",
       "      <th>0</th>\n",
       "      <td>34673</td>\n",
       "      <td>110624</td>\n",
       "    </tr>\n",
       "    <tr>\n",
       "      <th>1</th>\n",
       "      <td>119303</td>\n",
       "      <td>108687</td>\n",
       "    </tr>\n",
       "    <tr>\n",
       "      <th>2</th>\n",
       "      <td>89035</td>\n",
       "      <td>234084</td>\n",
       "    </tr>\n",
       "    <tr>\n",
       "      <th>3</th>\n",
       "      <td>7322</td>\n",
       "      <td>351543</td>\n",
       "    </tr>\n",
       "    <tr>\n",
       "      <th>4</th>\n",
       "      <td>102327</td>\n",
       "      <td>304142</td>\n",
       "    </tr>\n",
       "  </tbody>\n",
       "</table>\n",
       "</div>"
      ],
      "text/plain": [
       "      uid     gid\n",
       "0   34673  110624\n",
       "1  119303  108687\n",
       "2   89035  234084\n",
       "3    7322  351543\n",
       "4  102327  304142"
      ]
     },
     "execution_count": 20,
     "metadata": {},
     "output_type": "execute_result"
    }
   ],
   "source": [
    "trainGroups.head()"
   ]
  },
  {
   "cell_type": "code",
   "execution_count": 21,
   "metadata": {},
   "outputs": [
    {
     "data": {
      "text/plain": [
       "(1086091, 2)"
      ]
     },
     "execution_count": 21,
     "metadata": {},
     "output_type": "execute_result"
    }
   ],
   "source": [
    "trainGroups.shape"
   ]
  },
  {
   "cell_type": "code",
   "execution_count": 22,
   "metadata": {},
   "outputs": [
    {
     "data": {
      "text/plain": [
       "uid    0\n",
       "gid    0\n",
       "dtype: int64"
      ]
     },
     "execution_count": 22,
     "metadata": {},
     "output_type": "execute_result"
    }
   ],
   "source": [
    "trainGroups.isna().sum()"
   ]
  },
  {
   "cell_type": "code",
   "execution_count": 23,
   "metadata": {},
   "outputs": [],
   "source": [
    "gu = {}\n",
    "ug = {}\n",
    "for i in trainGroups.index:\n",
    "    uid, gid = trainGroups.at[i, \"uid\"], trainGroups.at[i, \"gid\"]\n",
    "    ug[uid] = ug.setdefault(uid, 0) + 1\n",
    "    gu[gid] = gu.setdefault(gid, 0) + 1\n",
    "guv = list(gu.values())\n",
    "ugv = list(ug.values())"
   ]
  },
  {
   "cell_type": "code",
   "execution_count": 29,
   "metadata": {},
   "outputs": [
    {
     "data": {
      "image/png": "[encoded data removed]",
      "text/plain": [
       "<Figure size 432x288 with 1 Axes>"
      ]
     },
     "metadata": {
      "needs_background": "light"
     },
     "output_type": "display_data"
    }
   ],
   "source": [
    "plt.hist(guv, bins=list(range(0, 22, 2)))\n",
    "plt.show()"
   ]
  },
  {
   "cell_type": "code",
   "execution_count": 32,
   "metadata": {},
   "outputs": [
    {
     "data": {
      "image/png": "[encoded data removed]",
      "text/plain": [
       "<Figure size 432x288 with 1 Axes>"
      ]
     },
     "metadata": {
      "needs_background": "light"
     },
     "output_type": "display_data"
    }
   ],
   "source": [
    "plt.hist(ugv, bins=list(range(0, 120, 5)))\n",
    "plt.show()"
   ]
  },
  {
   "cell_type": "markdown",
   "metadata": {},
   "source": [
    "A lot of users have ~100 groups, yet a lot of groups have ~2 users"
   ]
  },
  {
   "cell_type": "markdown",
   "metadata": {},
   "source": [
    "# Feature engineering"
   ]
  },
  {
   "cell_type": "markdown",
   "metadata": {},
   "source": [
    "Lets calculate friends count"
   ]
  },
  {
   "cell_type": "code",
   "execution_count": 34,
   "metadata": {},
   "outputs": [],
   "source": [
    "def count_friends(friends) -> dict:\n",
    "    count_friends = {}\n",
    "    for index in friends.index:\n",
    "        uid, fuid = friends.at[index, \"uid\"], friends.at[index, \"fuid\"]\n",
    "        count_friends[uid] = count_friends.setdefault(uid, 0) + 1\n",
    "        count_friends[fuid] = count_friends.setdefault(fuid, 0) + 1\n",
    "    return count_friends"
   ]
  },
  {
   "cell_type": "code",
   "execution_count": 35,
   "metadata": {},
   "outputs": [],
   "source": [
    "cfriends = count_friends(friends)"
   ]
  },
  {
   "cell_type": "code",
   "execution_count": 87,
   "metadata": {},
   "outputs": [],
   "source": [
    "def get_count_friends(uids, cfriends) -> List[int]:\n",
    "    res = [0] * len(uids)\n",
    "    for i, uid in enumerate(uids):\n",
    "        res[i] = cfriends.setdefault(uid, 0)\n",
    "    return res"
   ]
  },
  {
   "cell_type": "code",
   "execution_count": 84,
   "metadata": {},
   "outputs": [],
   "source": [
    "train[\"cfriends\"] = get_count_friends(train.uid, cfriends)"
   ]
  },
  {
   "cell_type": "code",
   "execution_count": 85,
   "metadata": {},
   "outputs": [
    {
     "data": {
      "text/html": [
       "<div>\n",
       "<style scoped>\n",
       "    .dataframe tbody tr th:only-of-type {\n",
       "        vertical-align: middle;\n",
       "    }\n",
       "\n",
       "    .dataframe tbody tr th {\n",
       "        vertical-align: top;\n",
       "    }\n",
       "\n",
       "    .dataframe thead th {\n",
       "        text-align: right;\n",
       "    }\n",
       "</style>\n",
       "<table border=\"1\" class=\"dataframe\">\n",
       "  <thead>\n",
       "    <tr style=\"text-align: right;\">\n",
       "      <th></th>\n",
       "      <th>uid</th>\n",
       "      <th>age</th>\n",
       "      <th>registered_year</th>\n",
       "      <th>cfriends</th>\n",
       "      <th>prob_age</th>\n",
       "      <th>grads_count</th>\n",
       "      <th>groups_count</th>\n",
       "      <th>mean_group_age</th>\n",
       "      <th>median_group_age</th>\n",
       "    </tr>\n",
       "  </thead>\n",
       "  <tbody>\n",
       "    <tr>\n",
       "      <th>0</th>\n",
       "      <td>85788</td>\n",
       "      <td>32</td>\n",
       "      <td>2020</td>\n",
       "      <td>33</td>\n",
       "      <td>0.0</td>\n",
       "      <td>0</td>\n",
       "      <td>4</td>\n",
       "      <td>36.746115</td>\n",
       "      <td>37.847786</td>\n",
       "    </tr>\n",
       "    <tr>\n",
       "      <th>1</th>\n",
       "      <td>19171</td>\n",
       "      <td>30</td>\n",
       "      <td>2009</td>\n",
       "      <td>126</td>\n",
       "      <td>0.0</td>\n",
       "      <td>0</td>\n",
       "      <td>100</td>\n",
       "      <td>34.821975</td>\n",
       "      <td>34.390129</td>\n",
       "    </tr>\n",
       "    <tr>\n",
       "      <th>2</th>\n",
       "      <td>7780</td>\n",
       "      <td>51</td>\n",
       "      <td>2012</td>\n",
       "      <td>26</td>\n",
       "      <td>0.0</td>\n",
       "      <td>0</td>\n",
       "      <td>0</td>\n",
       "      <td>0.000000</td>\n",
       "      <td>0.000000</td>\n",
       "    </tr>\n",
       "    <tr>\n",
       "      <th>3</th>\n",
       "      <td>14998</td>\n",
       "      <td>17</td>\n",
       "      <td>2019</td>\n",
       "      <td>1</td>\n",
       "      <td>19.0</td>\n",
       "      <td>1</td>\n",
       "      <td>0</td>\n",
       "      <td>0.000000</td>\n",
       "      <td>0.000000</td>\n",
       "    </tr>\n",
       "    <tr>\n",
       "      <th>4</th>\n",
       "      <td>94913</td>\n",
       "      <td>33</td>\n",
       "      <td>2010</td>\n",
       "      <td>19</td>\n",
       "      <td>35.0</td>\n",
       "      <td>1</td>\n",
       "      <td>0</td>\n",
       "      <td>0.000000</td>\n",
       "      <td>0.000000</td>\n",
       "    </tr>\n",
       "  </tbody>\n",
       "</table>\n",
       "</div>"
      ],
      "text/plain": [
       "     uid  age  registered_year  cfriends  prob_age  grads_count  groups_count  \\\n",
       "0  85788   32             2020        33       0.0            0             4   \n",
       "1  19171   30             2009       126       0.0            0           100   \n",
       "2   7780   51             2012        26       0.0            0             0   \n",
       "3  14998   17             2019         1      19.0            1             0   \n",
       "4  94913   33             2010        19      35.0            1             0   \n",
       "\n",
       "   mean_group_age  median_group_age  \n",
       "0       36.746115         37.847786  \n",
       "1       34.821975         34.390129  \n",
       "2        0.000000          0.000000  \n",
       "3        0.000000          0.000000  \n",
       "4        0.000000          0.000000  "
      ]
     },
     "execution_count": 85,
     "metadata": {},
     "output_type": "execute_result"
    }
   ],
   "source": [
    "train.head()"
   ]
  },
  {
   "cell_type": "markdown",
   "metadata": {},
   "source": [
    "Let's collect friends graph and save it (or load)"
   ]
  },
  {
   "cell_type": "code",
   "execution_count": 38,
   "metadata": {},
   "outputs": [],
   "source": [
    "def collect_friends(friends) -> dict:\n",
    "    uid_friends = {}\n",
    "    for index in friends.index:\n",
    "        uid, fuid = friends.at[index, \"uid\"], friends.at[index, \"fuid\"]\n",
    "        uid_friends[uid] = uid_friends.setdefault(uid, []) + [fuid]\n",
    "        uid_friends[fuid] = uid_friends.setdefault(fuid, []) + [uid]\n",
    "    return uid_friends"
   ]
  },
  {
   "cell_type": "code",
   "execution_count": null,
   "metadata": {},
   "outputs": [],
   "source": [
    "# with open(\"uid_friends.pkl\", \"rb\") as fin:\n",
    "#     uid_friends = pickle.load(fin)"
   ]
  },
  {
   "cell_type": "code",
   "execution_count": 39,
   "metadata": {},
   "outputs": [],
   "source": [
    "uid_friends = collect_friends(friends)"
   ]
  },
  {
   "cell_type": "code",
   "execution_count": null,
   "metadata": {},
   "outputs": [],
   "source": [
    "with open(\"uid_friends.pkl\", \"wb\") as fout:\n",
    "    pickle.dump(uid_friends, fout)"
   ]
  },
  {
   "cell_type": "markdown",
   "metadata": {},
   "source": [
    "Let's calculate probable age. \n",
    "\n",
    "If person ended school in X year, then he is probably (2021 + 17 - X) years old\n",
    "\n",
    "If person ended university in X year, then he is probably (2021 + 22 - X) years old\n",
    "\n",
    "Also we will calculate graduates count"
   ]
  },
  {
   "cell_type": "code",
   "execution_count": 153,
   "metadata": {},
   "outputs": [],
   "source": [
    "def calculate_probable_age(usersEducationFeatures):\n",
    "    prob_age = {}\n",
    "    grads_count = {}\n",
    "    age_diff1 = 17  # age difference for school\n",
    "    age_diff2 = 22  # age difference for university\n",
    "    for index in usersEducationFeatures.index:\n",
    "        count = 0\n",
    "        skip = False\n",
    "\n",
    "        if not pd.isnull(usersEducationFeatures.at[index, \"school_education\"]):\n",
    "            prob_age[usersEducationFeatures.at[index, \"uid\"]] = 2021 + age_diff1 - usersEducationFeatures.at[\n",
    "                index, \"school_education\"]\n",
    "            skip = True\n",
    "        for i in range(1, 8):\n",
    "            if skip:\n",
    "                break\n",
    "            if not pd.isnull(usersEducationFeatures.at[index, f\"graduation_{i}\"]):\n",
    "                prob_age[usersEducationFeatures.at[index, \"uid\"]] = 2021 + age_diff2 - usersEducationFeatures.at[\n",
    "                    index, f\"graduation_{i}\"]\n",
    "                skip = True\n",
    "\n",
    "        if not pd.isnull(usersEducationFeatures.at[index, \"school_education\"]):\n",
    "            count += 1\n",
    "        for i in range(1, 8):\n",
    "            if not pd.isnull(usersEducationFeatures.at[index, f\"graduation_{i}\"]):\n",
    "                count += 1\n",
    "\n",
    "        grads_count[usersEducationFeatures.at[index, \"uid\"]] = count\n",
    "    return prob_age, grads_count"
   ]
  },
  {
   "cell_type": "code",
   "execution_count": 154,
   "metadata": {},
   "outputs": [],
   "source": [
    "prob_age, grads_count = calculate_probable_age(trainEducationFeatures)"
   ]
  },
  {
   "cell_type": "code",
   "execution_count": 155,
   "metadata": {},
   "outputs": [],
   "source": [
    "def get_prob_age(uids, prob_age) -> List[int]:\n",
    "    res = [0] * len(uids)\n",
    "    for i, uid in enumerate(uids):\n",
    "        res[i] = prob_age.setdefault(uid, 0)\n",
    "    return res"
   ]
  },
  {
   "cell_type": "code",
   "execution_count": 156,
   "metadata": {},
   "outputs": [],
   "source": [
    "def get_grads_count(uids, grads_count) -> List[int]:\n",
    "    res = [0] * len(uids)\n",
    "    for i, uid in enumerate(uids):\n",
    "        res[i] = grads_count.setdefault(uid, 0)\n",
    "    return res"
   ]
  },
  {
   "cell_type": "code",
   "execution_count": 157,
   "metadata": {},
   "outputs": [],
   "source": [
    "train[\"prob_age\"] = get_prob_age(train.uid, prob_age)"
   ]
  },
  {
   "cell_type": "code",
   "execution_count": 158,
   "metadata": {},
   "outputs": [],
   "source": [
    "train[\"grads_count\"] = get_grads_count(train.uid, grads_count)"
   ]
  },
  {
   "cell_type": "code",
   "execution_count": 159,
   "metadata": {},
   "outputs": [
    {
     "data": {
      "text/html": [
       "<div>\n",
       "<style scoped>\n",
       "    .dataframe tbody tr th:only-of-type {\n",
       "        vertical-align: middle;\n",
       "    }\n",
       "\n",
       "    .dataframe tbody tr th {\n",
       "        vertical-align: top;\n",
       "    }\n",
       "\n",
       "    .dataframe thead th {\n",
       "        text-align: right;\n",
       "    }\n",
       "</style>\n",
       "<table border=\"1\" class=\"dataframe\">\n",
       "  <thead>\n",
       "    <tr style=\"text-align: right;\">\n",
       "      <th></th>\n",
       "      <th>uid</th>\n",
       "      <th>age</th>\n",
       "      <th>registered_year</th>\n",
       "      <th>cfriends</th>\n",
       "      <th>prob_age</th>\n",
       "      <th>grads_count</th>\n",
       "      <th>groups_count</th>\n",
       "      <th>mean_group_age</th>\n",
       "      <th>median_group_age</th>\n",
       "      <th>mean_friends_age</th>\n",
       "      <th>median_friends_age</th>\n",
       "      <th>mean_friends2_age</th>\n",
       "      <th>is_prob_age</th>\n",
       "      <th>is_group_age</th>\n",
       "      <th>is_friends_age</th>\n",
       "    </tr>\n",
       "  </thead>\n",
       "  <tbody>\n",
       "    <tr>\n",
       "      <th>0</th>\n",
       "      <td>85788</td>\n",
       "      <td>32</td>\n",
       "      <td>2020</td>\n",
       "      <td>33</td>\n",
       "      <td>0.0</td>\n",
       "      <td>0</td>\n",
       "      <td>4</td>\n",
       "      <td>36.746115</td>\n",
       "      <td>37.847786</td>\n",
       "      <td>36.428571</td>\n",
       "      <td>35.5</td>\n",
       "      <td>35.492795</td>\n",
       "      <td>False</td>\n",
       "      <td>True</td>\n",
       "      <td>True</td>\n",
       "    </tr>\n",
       "    <tr>\n",
       "      <th>1</th>\n",
       "      <td>19171</td>\n",
       "      <td>30</td>\n",
       "      <td>2009</td>\n",
       "      <td>126</td>\n",
       "      <td>0.0</td>\n",
       "      <td>0</td>\n",
       "      <td>100</td>\n",
       "      <td>34.821975</td>\n",
       "      <td>34.390129</td>\n",
       "      <td>34.068966</td>\n",
       "      <td>33.0</td>\n",
       "      <td>0.000000</td>\n",
       "      <td>False</td>\n",
       "      <td>True</td>\n",
       "      <td>True</td>\n",
       "    </tr>\n",
       "    <tr>\n",
       "      <th>2</th>\n",
       "      <td>7780</td>\n",
       "      <td>51</td>\n",
       "      <td>2012</td>\n",
       "      <td>26</td>\n",
       "      <td>0.0</td>\n",
       "      <td>0</td>\n",
       "      <td>0</td>\n",
       "      <td>0.000000</td>\n",
       "      <td>0.000000</td>\n",
       "      <td>35.000000</td>\n",
       "      <td>32.0</td>\n",
       "      <td>36.676585</td>\n",
       "      <td>False</td>\n",
       "      <td>False</td>\n",
       "      <td>True</td>\n",
       "    </tr>\n",
       "    <tr>\n",
       "      <th>3</th>\n",
       "      <td>14998</td>\n",
       "      <td>17</td>\n",
       "      <td>2019</td>\n",
       "      <td>1</td>\n",
       "      <td>19.0</td>\n",
       "      <td>1</td>\n",
       "      <td>0</td>\n",
       "      <td>0.000000</td>\n",
       "      <td>0.000000</td>\n",
       "      <td>0.000000</td>\n",
       "      <td>0.0</td>\n",
       "      <td>16.818182</td>\n",
       "      <td>True</td>\n",
       "      <td>False</td>\n",
       "      <td>False</td>\n",
       "    </tr>\n",
       "    <tr>\n",
       "      <th>4</th>\n",
       "      <td>94913</td>\n",
       "      <td>33</td>\n",
       "      <td>2010</td>\n",
       "      <td>19</td>\n",
       "      <td>35.0</td>\n",
       "      <td>1</td>\n",
       "      <td>0</td>\n",
       "      <td>0.000000</td>\n",
       "      <td>0.000000</td>\n",
       "      <td>35.000000</td>\n",
       "      <td>34.0</td>\n",
       "      <td>34.360236</td>\n",
       "      <td>True</td>\n",
       "      <td>False</td>\n",
       "      <td>True</td>\n",
       "    </tr>\n",
       "  </tbody>\n",
       "</table>\n",
       "</div>"
      ],
      "text/plain": [
       "     uid  age  registered_year  cfriends  prob_age  grads_count  groups_count  \\\n",
       "0  85788   32             2020        33       0.0            0             4   \n",
       "1  19171   30             2009       126       0.0            0           100   \n",
       "2   7780   51             2012        26       0.0            0             0   \n",
       "3  14998   17             2019         1      19.0            1             0   \n",
       "4  94913   33             2010        19      35.0            1             0   \n",
       "\n",
       "   mean_group_age  median_group_age  mean_friends_age  median_friends_age  \\\n",
       "0       36.746115         37.847786         36.428571                35.5   \n",
       "1       34.821975         34.390129         34.068966                33.0   \n",
       "2        0.000000          0.000000         35.000000                32.0   \n",
       "3        0.000000          0.000000          0.000000                 0.0   \n",
       "4        0.000000          0.000000         35.000000                34.0   \n",
       "\n",
       "   mean_friends2_age  is_prob_age  is_group_age  is_friends_age  \n",
       "0          35.492795        False          True            True  \n",
       "1           0.000000        False          True            True  \n",
       "2          36.676585        False         False            True  \n",
       "3          16.818182         True         False           False  \n",
       "4          34.360236         True         False            True  "
      ]
     },
     "execution_count": 159,
     "metadata": {},
     "output_type": "execute_result"
    }
   ],
   "source": [
    "train.head()"
   ]
  },
  {
   "cell_type": "markdown",
   "metadata": {},
   "source": [
    "Now let's calculate users groups count"
   ]
  },
  {
   "cell_type": "code",
   "execution_count": 69,
   "metadata": {},
   "outputs": [],
   "source": [
    "def get_groups_count(uids, usersGroups):\n",
    "    tmp = usersGroups.groupby(\"uid\").count()\n",
    "    groups_count = [0] * len(uids)\n",
    "    for i, uid in enumerate(uids):\n",
    "        try:\n",
    "            groups_count[i] = tmp.at[uid, \"gid\"]\n",
    "        except:\n",
    "            continue\n",
    "    return groups_count"
   ]
  },
  {
   "cell_type": "code",
   "execution_count": 70,
   "metadata": {},
   "outputs": [],
   "source": [
    "train[\"groups_count\"] = get_groups_count(train.uid, trainGroups)"
   ]
  },
  {
   "cell_type": "code",
   "execution_count": 71,
   "metadata": {},
   "outputs": [
    {
     "data": {
      "text/html": [
       "<div>\n",
       "<style scoped>\n",
       "    .dataframe tbody tr th:only-of-type {\n",
       "        vertical-align: middle;\n",
       "    }\n",
       "\n",
       "    .dataframe tbody tr th {\n",
       "        vertical-align: top;\n",
       "    }\n",
       "\n",
       "    .dataframe thead th {\n",
       "        text-align: right;\n",
       "    }\n",
       "</style>\n",
       "<table border=\"1\" class=\"dataframe\">\n",
       "  <thead>\n",
       "    <tr style=\"text-align: right;\">\n",
       "      <th></th>\n",
       "      <th>uid</th>\n",
       "      <th>age</th>\n",
       "      <th>registered_year</th>\n",
       "      <th>cfriends</th>\n",
       "      <th>prob_age</th>\n",
       "      <th>grads_count</th>\n",
       "      <th>groups_count</th>\n",
       "      <th>mean_group_age</th>\n",
       "      <th>median_group_age</th>\n",
       "    </tr>\n",
       "  </thead>\n",
       "  <tbody>\n",
       "    <tr>\n",
       "      <th>0</th>\n",
       "      <td>85788</td>\n",
       "      <td>32</td>\n",
       "      <td>2020</td>\n",
       "      <td>33</td>\n",
       "      <td>0</td>\n",
       "      <td>0</td>\n",
       "      <td>4</td>\n",
       "      <td>36.746115</td>\n",
       "      <td>37.847786</td>\n",
       "    </tr>\n",
       "    <tr>\n",
       "      <th>1</th>\n",
       "      <td>19171</td>\n",
       "      <td>30</td>\n",
       "      <td>2009</td>\n",
       "      <td>126</td>\n",
       "      <td>0</td>\n",
       "      <td>0</td>\n",
       "      <td>100</td>\n",
       "      <td>34.821975</td>\n",
       "      <td>34.390129</td>\n",
       "    </tr>\n",
       "    <tr>\n",
       "      <th>2</th>\n",
       "      <td>7780</td>\n",
       "      <td>51</td>\n",
       "      <td>2012</td>\n",
       "      <td>26</td>\n",
       "      <td>0</td>\n",
       "      <td>0</td>\n",
       "      <td>0</td>\n",
       "      <td>0.000000</td>\n",
       "      <td>0.000000</td>\n",
       "    </tr>\n",
       "    <tr>\n",
       "      <th>3</th>\n",
       "      <td>14998</td>\n",
       "      <td>17</td>\n",
       "      <td>2019</td>\n",
       "      <td>1</td>\n",
       "      <td>19</td>\n",
       "      <td>1</td>\n",
       "      <td>0</td>\n",
       "      <td>0.000000</td>\n",
       "      <td>0.000000</td>\n",
       "    </tr>\n",
       "    <tr>\n",
       "      <th>4</th>\n",
       "      <td>94913</td>\n",
       "      <td>33</td>\n",
       "      <td>2010</td>\n",
       "      <td>19</td>\n",
       "      <td>35</td>\n",
       "      <td>1</td>\n",
       "      <td>0</td>\n",
       "      <td>0.000000</td>\n",
       "      <td>0.000000</td>\n",
       "    </tr>\n",
       "  </tbody>\n",
       "</table>\n",
       "</div>"
      ],
      "text/plain": [
       "     uid  age  registered_year  cfriends  prob_age  grads_count  groups_count  \\\n",
       "0  85788   32             2020        33         0            0             4   \n",
       "1  19171   30             2009       126         0            0           100   \n",
       "2   7780   51             2012        26         0            0             0   \n",
       "3  14998   17             2019         1        19            1             0   \n",
       "4  94913   33             2010        19        35            1             0   \n",
       "\n",
       "   mean_group_age  median_group_age  \n",
       "0       36.746115         37.847786  \n",
       "1       34.821975         34.390129  \n",
       "2        0.000000          0.000000  \n",
       "3        0.000000          0.000000  \n",
       "4        0.000000          0.000000  "
      ]
     },
     "execution_count": 71,
     "metadata": {},
     "output_type": "execute_result"
    }
   ],
   "source": [
    "train.head()"
   ]
  },
  {
   "cell_type": "markdown",
   "metadata": {},
   "source": [
    "For next features we need dictionary uid to age and gid to age"
   ]
  },
  {
   "cell_type": "code",
   "execution_count": null,
   "metadata": {},
   "outputs": [],
   "source": [
    "# with open(\"uid2age.pkl\", \"rb\") as fin:\n",
    "#     uid2age = pickle.load(fin)"
   ]
  },
  {
   "cell_type": "code",
   "execution_count": 53,
   "metadata": {},
   "outputs": [],
   "source": [
    "uid2age = {}\n",
    "for index in train.index:\n",
    "    uid2age[train.at[index, \"uid\"]] = train.at[index, \"age\"]"
   ]
  },
  {
   "cell_type": "code",
   "execution_count": null,
   "metadata": {},
   "outputs": [],
   "source": [
    "with open(\"uid2age.pkl\", \"wb\") as fout:\n",
    "    pickle.dump(uid2age, fout)"
   ]
  },
  {
   "cell_type": "code",
   "execution_count": 55,
   "metadata": {},
   "outputs": [],
   "source": [
    "trainGroups[\"age\"] = 0\n",
    "uid_groups = {} # dict is mapping uid to his groups ids list\n",
    "for index in trainGroups.index:\n",
    "    uid = trainGroups.at[index, \"uid\"]\n",
    "    uid_groups[uid] = uid_groups.setdefault(uid, []) + [trainGroups.at[index, \"gid\"]]\n",
    "    age = uid2age[uid]\n",
    "    trainGroups.at[index,\"age\"] = age"
   ]
  },
  {
   "cell_type": "code",
   "execution_count": null,
   "metadata": {},
   "outputs": [],
   "source": [
    "# with open(\"gid2age.pkl\", \"rb\") as fin:\n",
    "#     gid2age = pickle.load(fin)"
   ]
  },
  {
   "cell_type": "code",
   "execution_count": 56,
   "metadata": {},
   "outputs": [],
   "source": [
    "tmp = trainGroups.groupby(\"gid\").mean()\n",
    "gid2age = {}\n",
    "for index in tmp.index:\n",
    "    gid2age[index] = tmp.at[index, \"age\"]"
   ]
  },
  {
   "cell_type": "code",
   "execution_count": null,
   "metadata": {},
   "outputs": [],
   "source": [
    "with open(\"gid2age.pkl\", \"wb\") as fout:\n",
    "    pickle.dump(gid2age, fout)"
   ]
  },
  {
   "cell_type": "markdown",
   "metadata": {},
   "source": [
    "Next features are mean encoding for groups and friends"
   ]
  },
  {
   "cell_type": "code",
   "execution_count": 57,
   "metadata": {},
   "outputs": [],
   "source": [
    "def get_mean_and_median_group(uids, gid2age, uid_groups):\n",
    "    mean_group = [0.] * len(uids)\n",
    "    median_group = [0.] * len(uids)\n",
    "    for i, uid in enumerate(uids):\n",
    "        try:\n",
    "            tmp = [gid2age[x] for x in uid_groups[uid]]\n",
    "            mean_group[i] = sum(tmp) / len(tmp)\n",
    "            median_group[i] = np.median(tmp)\n",
    "        except:\n",
    "            continue\n",
    "    return mean_group, median_group"
   ]
  },
  {
   "cell_type": "code",
   "execution_count": 58,
   "metadata": {},
   "outputs": [],
   "source": [
    "train[\"mean_group_age\"], train[\"median_group_age\"] = get_mean_and_median_group(train.uid, gid2age, uid_groups)"
   ]
  },
  {
   "cell_type": "code",
   "execution_count": 90,
   "metadata": {},
   "outputs": [
    {
     "data": {
      "text/html": [
       "<div>\n",
       "<style scoped>\n",
       "    .dataframe tbody tr th:only-of-type {\n",
       "        vertical-align: middle;\n",
       "    }\n",
       "\n",
       "    .dataframe tbody tr th {\n",
       "        vertical-align: top;\n",
       "    }\n",
       "\n",
       "    .dataframe thead th {\n",
       "        text-align: right;\n",
       "    }\n",
       "</style>\n",
       "<table border=\"1\" class=\"dataframe\">\n",
       "  <thead>\n",
       "    <tr style=\"text-align: right;\">\n",
       "      <th></th>\n",
       "      <th>uid</th>\n",
       "      <th>age</th>\n",
       "      <th>registered_year</th>\n",
       "      <th>cfriends</th>\n",
       "      <th>prob_age</th>\n",
       "      <th>grads_count</th>\n",
       "      <th>groups_count</th>\n",
       "      <th>mean_group_age</th>\n",
       "      <th>median_group_age</th>\n",
       "    </tr>\n",
       "  </thead>\n",
       "  <tbody>\n",
       "    <tr>\n",
       "      <th>0</th>\n",
       "      <td>85788</td>\n",
       "      <td>32</td>\n",
       "      <td>2020</td>\n",
       "      <td>33</td>\n",
       "      <td>0.0</td>\n",
       "      <td>0</td>\n",
       "      <td>4</td>\n",
       "      <td>36.746115</td>\n",
       "      <td>37.847786</td>\n",
       "    </tr>\n",
       "    <tr>\n",
       "      <th>1</th>\n",
       "      <td>19171</td>\n",
       "      <td>30</td>\n",
       "      <td>2009</td>\n",
       "      <td>126</td>\n",
       "      <td>0.0</td>\n",
       "      <td>0</td>\n",
       "      <td>100</td>\n",
       "      <td>34.821975</td>\n",
       "      <td>34.390129</td>\n",
       "    </tr>\n",
       "    <tr>\n",
       "      <th>2</th>\n",
       "      <td>7780</td>\n",
       "      <td>51</td>\n",
       "      <td>2012</td>\n",
       "      <td>26</td>\n",
       "      <td>0.0</td>\n",
       "      <td>0</td>\n",
       "      <td>0</td>\n",
       "      <td>0.000000</td>\n",
       "      <td>0.000000</td>\n",
       "    </tr>\n",
       "    <tr>\n",
       "      <th>3</th>\n",
       "      <td>14998</td>\n",
       "      <td>17</td>\n",
       "      <td>2019</td>\n",
       "      <td>1</td>\n",
       "      <td>19.0</td>\n",
       "      <td>1</td>\n",
       "      <td>0</td>\n",
       "      <td>0.000000</td>\n",
       "      <td>0.000000</td>\n",
       "    </tr>\n",
       "    <tr>\n",
       "      <th>4</th>\n",
       "      <td>94913</td>\n",
       "      <td>33</td>\n",
       "      <td>2010</td>\n",
       "      <td>19</td>\n",
       "      <td>35.0</td>\n",
       "      <td>1</td>\n",
       "      <td>0</td>\n",
       "      <td>0.000000</td>\n",
       "      <td>0.000000</td>\n",
       "    </tr>\n",
       "  </tbody>\n",
       "</table>\n",
       "</div>"
      ],
      "text/plain": [
       "     uid  age  registered_year  cfriends  prob_age  grads_count  groups_count  \\\n",
       "0  85788   32             2020        33       0.0            0             4   \n",
       "1  19171   30             2009       126       0.0            0           100   \n",
       "2   7780   51             2012        26       0.0            0             0   \n",
       "3  14998   17             2019         1      19.0            1             0   \n",
       "4  94913   33             2010        19      35.0            1             0   \n",
       "\n",
       "   mean_group_age  median_group_age  \n",
       "0       36.746115         37.847786  \n",
       "1       34.821975         34.390129  \n",
       "2        0.000000          0.000000  \n",
       "3        0.000000          0.000000  \n",
       "4        0.000000          0.000000  "
      ]
     },
     "execution_count": 90,
     "metadata": {},
     "output_type": "execute_result"
    }
   ],
   "source": [
    "train.head()"
   ]
  },
  {
   "cell_type": "code",
   "execution_count": 91,
   "metadata": {},
   "outputs": [],
   "source": [
    "def get_mean_and_median_friends(uids, uid2age, uid_friends):\n",
    "    mean_friends = [0.] * len(uids)\n",
    "    median_friends = [0.] * len(uids)\n",
    "    mean_friends2 = [0.] * len(uids)\n",
    "    for i, uid in enumerate(uids):\n",
    "        try:\n",
    "            tmp = []\n",
    "            if uid in uid_friends and len(uid_friends[uid]) < 42:\n",
    "                for friend in uid_friends[uid]:\n",
    "                    if friend in uid_friends:\n",
    "                        for f2 in uid_friends[friend]:\n",
    "                            if f2 != uid and f2 in uid2age:\n",
    "                                tmp.append(uid2age[f2])\n",
    "            mean_friends2[i] = sum(tmp) / len(tmp) if len(tmp) != 0 else 0\n",
    "            tmp = [uid2age[x] for x in uid_friends[uid] if x in uid2age]\n",
    "            mean_friends[i] = sum(tmp) / len(tmp) if len(tmp) != 0 else 0.\n",
    "            median_friends[i] = np.median(tmp) if len(tmp) != 0 else 0.\n",
    "        except:\n",
    "            continue\n",
    "    return mean_friends, median_friends, mean_friends2"
   ]
  },
  {
   "cell_type": "code",
   "execution_count": 93,
   "metadata": {},
   "outputs": [],
   "source": [
    "train[\"mean_friends_age\"], train[\"median_friends_age\"], train[\"mean_friends2_age\"] = get_mean_and_median_friends(train.uid, uid2age, uid_friends)"
   ]
  },
  {
   "cell_type": "code",
   "execution_count": 94,
   "metadata": {},
   "outputs": [
    {
     "data": {
      "text/html": [
       "<div>\n",
       "<style scoped>\n",
       "    .dataframe tbody tr th:only-of-type {\n",
       "        vertical-align: middle;\n",
       "    }\n",
       "\n",
       "    .dataframe tbody tr th {\n",
       "        vertical-align: top;\n",
       "    }\n",
       "\n",
       "    .dataframe thead th {\n",
       "        text-align: right;\n",
       "    }\n",
       "</style>\n",
       "<table border=\"1\" class=\"dataframe\">\n",
       "  <thead>\n",
       "    <tr style=\"text-align: right;\">\n",
       "      <th></th>\n",
       "      <th>uid</th>\n",
       "      <th>age</th>\n",
       "      <th>registered_year</th>\n",
       "      <th>cfriends</th>\n",
       "      <th>prob_age</th>\n",
       "      <th>grads_count</th>\n",
       "      <th>groups_count</th>\n",
       "      <th>mean_group_age</th>\n",
       "      <th>median_group_age</th>\n",
       "      <th>mean_friends_age</th>\n",
       "      <th>median_friends_age</th>\n",
       "      <th>mean_friends2_age</th>\n",
       "    </tr>\n",
       "  </thead>\n",
       "  <tbody>\n",
       "    <tr>\n",
       "      <th>0</th>\n",
       "      <td>85788</td>\n",
       "      <td>32</td>\n",
       "      <td>2020</td>\n",
       "      <td>33</td>\n",
       "      <td>0.0</td>\n",
       "      <td>0</td>\n",
       "      <td>4</td>\n",
       "      <td>36.746115</td>\n",
       "      <td>37.847786</td>\n",
       "      <td>36.428571</td>\n",
       "      <td>35.5</td>\n",
       "      <td>35.492795</td>\n",
       "    </tr>\n",
       "    <tr>\n",
       "      <th>1</th>\n",
       "      <td>19171</td>\n",
       "      <td>30</td>\n",
       "      <td>2009</td>\n",
       "      <td>126</td>\n",
       "      <td>0.0</td>\n",
       "      <td>0</td>\n",
       "      <td>100</td>\n",
       "      <td>34.821975</td>\n",
       "      <td>34.390129</td>\n",
       "      <td>34.068966</td>\n",
       "      <td>33.0</td>\n",
       "      <td>0.000000</td>\n",
       "    </tr>\n",
       "    <tr>\n",
       "      <th>2</th>\n",
       "      <td>7780</td>\n",
       "      <td>51</td>\n",
       "      <td>2012</td>\n",
       "      <td>26</td>\n",
       "      <td>0.0</td>\n",
       "      <td>0</td>\n",
       "      <td>0</td>\n",
       "      <td>0.000000</td>\n",
       "      <td>0.000000</td>\n",
       "      <td>35.000000</td>\n",
       "      <td>32.0</td>\n",
       "      <td>36.676585</td>\n",
       "    </tr>\n",
       "    <tr>\n",
       "      <th>3</th>\n",
       "      <td>14998</td>\n",
       "      <td>17</td>\n",
       "      <td>2019</td>\n",
       "      <td>1</td>\n",
       "      <td>19.0</td>\n",
       "      <td>1</td>\n",
       "      <td>0</td>\n",
       "      <td>0.000000</td>\n",
       "      <td>0.000000</td>\n",
       "      <td>0.000000</td>\n",
       "      <td>0.0</td>\n",
       "      <td>16.818182</td>\n",
       "    </tr>\n",
       "    <tr>\n",
       "      <th>4</th>\n",
       "      <td>94913</td>\n",
       "      <td>33</td>\n",
       "      <td>2010</td>\n",
       "      <td>19</td>\n",
       "      <td>35.0</td>\n",
       "      <td>1</td>\n",
       "      <td>0</td>\n",
       "      <td>0.000000</td>\n",
       "      <td>0.000000</td>\n",
       "      <td>35.000000</td>\n",
       "      <td>34.0</td>\n",
       "      <td>34.360236</td>\n",
       "    </tr>\n",
       "  </tbody>\n",
       "</table>\n",
       "</div>"
      ],
      "text/plain": [
       "     uid  age  registered_year  cfriends  prob_age  grads_count  groups_count  \\\n",
       "0  85788   32             2020        33       0.0            0             4   \n",
       "1  19171   30             2009       126       0.0            0           100   \n",
       "2   7780   51             2012        26       0.0            0             0   \n",
       "3  14998   17             2019         1      19.0            1             0   \n",
       "4  94913   33             2010        19      35.0            1             0   \n",
       "\n",
       "   mean_group_age  median_group_age  mean_friends_age  median_friends_age  \\\n",
       "0       36.746115         37.847786         36.428571                35.5   \n",
       "1       34.821975         34.390129         34.068966                33.0   \n",
       "2        0.000000          0.000000         35.000000                32.0   \n",
       "3        0.000000          0.000000          0.000000                 0.0   \n",
       "4        0.000000          0.000000         35.000000                34.0   \n",
       "\n",
       "   mean_friends2_age  \n",
       "0          35.492795  \n",
       "1           0.000000  \n",
       "2          36.676585  \n",
       "3          16.818182  \n",
       "4          34.360236  "
      ]
     },
     "execution_count": 94,
     "metadata": {},
     "output_type": "execute_result"
    }
   ],
   "source": [
    "train.head()"
   ]
  },
  {
   "cell_type": "markdown",
   "metadata": {},
   "source": [
    "Some checkers"
   ]
  },
  {
   "cell_type": "code",
   "execution_count": 95,
   "metadata": {},
   "outputs": [],
   "source": [
    "train[\"is_prob_age\"] = train.prob_age != 0"
   ]
  },
  {
   "cell_type": "code",
   "execution_count": 96,
   "metadata": {},
   "outputs": [],
   "source": [
    "train[\"is_group_age\"] = train.mean_group_age != 0"
   ]
  },
  {
   "cell_type": "code",
   "execution_count": 97,
   "metadata": {},
   "outputs": [],
   "source": [
    "train[\"is_friends_age\"] = train.mean_friends_age != 0"
   ]
  },
  {
   "cell_type": "code",
   "execution_count": 98,
   "metadata": {},
   "outputs": [
    {
     "data": {
      "text/html": [
       "<div>\n",
       "<style scoped>\n",
       "    .dataframe tbody tr th:only-of-type {\n",
       "        vertical-align: middle;\n",
       "    }\n",
       "\n",
       "    .dataframe tbody tr th {\n",
       "        vertical-align: top;\n",
       "    }\n",
       "\n",
       "    .dataframe thead th {\n",
       "        text-align: right;\n",
       "    }\n",
       "</style>\n",
       "<table border=\"1\" class=\"dataframe\">\n",
       "  <thead>\n",
       "    <tr style=\"text-align: right;\">\n",
       "      <th></th>\n",
       "      <th>uid</th>\n",
       "      <th>age</th>\n",
       "      <th>registered_year</th>\n",
       "      <th>cfriends</th>\n",
       "      <th>prob_age</th>\n",
       "      <th>grads_count</th>\n",
       "      <th>groups_count</th>\n",
       "      <th>mean_group_age</th>\n",
       "      <th>median_group_age</th>\n",
       "      <th>mean_friends_age</th>\n",
       "      <th>median_friends_age</th>\n",
       "      <th>mean_friends2_age</th>\n",
       "      <th>is_prob_age</th>\n",
       "      <th>is_group_age</th>\n",
       "      <th>is_friends_age</th>\n",
       "    </tr>\n",
       "  </thead>\n",
       "  <tbody>\n",
       "    <tr>\n",
       "      <th>0</th>\n",
       "      <td>85788</td>\n",
       "      <td>32</td>\n",
       "      <td>2020</td>\n",
       "      <td>33</td>\n",
       "      <td>0.0</td>\n",
       "      <td>0</td>\n",
       "      <td>4</td>\n",
       "      <td>36.746115</td>\n",
       "      <td>37.847786</td>\n",
       "      <td>36.428571</td>\n",
       "      <td>35.5</td>\n",
       "      <td>35.492795</td>\n",
       "      <td>False</td>\n",
       "      <td>True</td>\n",
       "      <td>True</td>\n",
       "    </tr>\n",
       "    <tr>\n",
       "      <th>1</th>\n",
       "      <td>19171</td>\n",
       "      <td>30</td>\n",
       "      <td>2009</td>\n",
       "      <td>126</td>\n",
       "      <td>0.0</td>\n",
       "      <td>0</td>\n",
       "      <td>100</td>\n",
       "      <td>34.821975</td>\n",
       "      <td>34.390129</td>\n",
       "      <td>34.068966</td>\n",
       "      <td>33.0</td>\n",
       "      <td>0.000000</td>\n",
       "      <td>False</td>\n",
       "      <td>True</td>\n",
       "      <td>True</td>\n",
       "    </tr>\n",
       "    <tr>\n",
       "      <th>2</th>\n",
       "      <td>7780</td>\n",
       "      <td>51</td>\n",
       "      <td>2012</td>\n",
       "      <td>26</td>\n",
       "      <td>0.0</td>\n",
       "      <td>0</td>\n",
       "      <td>0</td>\n",
       "      <td>0.000000</td>\n",
       "      <td>0.000000</td>\n",
       "      <td>35.000000</td>\n",
       "      <td>32.0</td>\n",
       "      <td>36.676585</td>\n",
       "      <td>False</td>\n",
       "      <td>False</td>\n",
       "      <td>True</td>\n",
       "    </tr>\n",
       "    <tr>\n",
       "      <th>3</th>\n",
       "      <td>14998</td>\n",
       "      <td>17</td>\n",
       "      <td>2019</td>\n",
       "      <td>1</td>\n",
       "      <td>19.0</td>\n",
       "      <td>1</td>\n",
       "      <td>0</td>\n",
       "      <td>0.000000</td>\n",
       "      <td>0.000000</td>\n",
       "      <td>0.000000</td>\n",
       "      <td>0.0</td>\n",
       "      <td>16.818182</td>\n",
       "      <td>True</td>\n",
       "      <td>False</td>\n",
       "      <td>False</td>\n",
       "    </tr>\n",
       "    <tr>\n",
       "      <th>4</th>\n",
       "      <td>94913</td>\n",
       "      <td>33</td>\n",
       "      <td>2010</td>\n",
       "      <td>19</td>\n",
       "      <td>35.0</td>\n",
       "      <td>1</td>\n",
       "      <td>0</td>\n",
       "      <td>0.000000</td>\n",
       "      <td>0.000000</td>\n",
       "      <td>35.000000</td>\n",
       "      <td>34.0</td>\n",
       "      <td>34.360236</td>\n",
       "      <td>True</td>\n",
       "      <td>False</td>\n",
       "      <td>True</td>\n",
       "    </tr>\n",
       "  </tbody>\n",
       "</table>\n",
       "</div>"
      ],
      "text/plain": [
       "     uid  age  registered_year  cfriends  prob_age  grads_count  groups_count  \\\n",
       "0  85788   32             2020        33       0.0            0             4   \n",
       "1  19171   30             2009       126       0.0            0           100   \n",
       "2   7780   51             2012        26       0.0            0             0   \n",
       "3  14998   17             2019         1      19.0            1             0   \n",
       "4  94913   33             2010        19      35.0            1             0   \n",
       "\n",
       "   mean_group_age  median_group_age  mean_friends_age  median_friends_age  \\\n",
       "0       36.746115         37.847786         36.428571                35.5   \n",
       "1       34.821975         34.390129         34.068966                33.0   \n",
       "2        0.000000          0.000000         35.000000                32.0   \n",
       "3        0.000000          0.000000          0.000000                 0.0   \n",
       "4        0.000000          0.000000         35.000000                34.0   \n",
       "\n",
       "   mean_friends2_age  is_prob_age  is_group_age  is_friends_age  \n",
       "0          35.492795        False          True            True  \n",
       "1           0.000000        False          True            True  \n",
       "2          36.676585        False         False            True  \n",
       "3          16.818182         True         False           False  \n",
       "4          34.360236         True         False            True  "
      ]
     },
     "execution_count": 98,
     "metadata": {},
     "output_type": "execute_result"
    }
   ],
   "source": [
    "train.head()"
   ]
  },
  {
   "cell_type": "markdown",
   "metadata": {},
   "source": [
    "# Model choosing"
   ]
  },
  {
   "cell_type": "markdown",
   "metadata": {},
   "source": [
    "### Due to data leakage from mean encoding features validation will be show better score, than on Leaderbord\n",
    "\n",
    "### Yet, in practice, score on validation is correlating with score on Leaderboard, so we can choose model using this validation"
   ]
  },
  {
   "cell_type": "code",
   "execution_count": 99,
   "metadata": {},
   "outputs": [],
   "source": [
    "X_train, X_test, y_train, y_test = train_test_split(train.drop([\"age\", \"uid\"], axis=1), train.age, test_size=0.2, random_state=42)"
   ]
  },
  {
   "cell_type": "code",
   "execution_count": 104,
   "metadata": {},
   "outputs": [],
   "source": [
    "scaler = MinMaxScaler()\n",
    "X_train = scaler.fit_transform(X_train)\n",
    "X_test = scaler.transform(X_test)"
   ]
  },
  {
   "cell_type": "markdown",
   "metadata": {},
   "source": [
    "### Let's take different models"
   ]
  },
  {
   "cell_type": "markdown",
   "metadata": {},
   "source": [
    "CatBoost"
   ]
  },
  {
   "cell_type": "code",
   "execution_count": 110,
   "metadata": {
    "tags": []
   },
   "outputs": [
    {
     "data": {
      "text/plain": [
       "0.1409550032928687"
      ]
     },
     "execution_count": 110,
     "metadata": {},
     "output_type": "execute_result"
    }
   ],
   "source": [
    "model = CatBoostRegressor(verbose=0)\n",
    "model.fit(X_train, y_train)\n",
    "y_pred = model.predict(X_test)\n",
    "score(y_test, y_pred)"
   ]
  },
  {
   "cell_type": "markdown",
   "metadata": {},
   "source": [
    "LinearRegression"
   ]
  },
  {
   "cell_type": "code",
   "execution_count": 108,
   "metadata": {},
   "outputs": [
    {
     "data": {
      "text/plain": [
       "0.12045934186975549"
      ]
     },
     "execution_count": 108,
     "metadata": {},
     "output_type": "execute_result"
    }
   ],
   "source": [
    "model = LinearRegression()\n",
    "model.fit(X_train, y_train)\n",
    "y_pred = model.predict(X_test)\n",
    "score(y_test, y_pred)"
   ]
  },
  {
   "cell_type": "markdown",
   "metadata": {},
   "source": [
    "RandomForestRegressor"
   ]
  },
  {
   "cell_type": "code",
   "execution_count": 117,
   "metadata": {},
   "outputs": [
    {
     "data": {
      "text/plain": [
       "0.13736512780360308"
      ]
     },
     "execution_count": 117,
     "metadata": {},
     "output_type": "execute_result"
    }
   ],
   "source": [
    "model = RandomForestRegressor()\n",
    "model.fit(X_train, y_train)\n",
    "y_pred = model.predict(X_test)\n",
    "score(y_test, y_pred)"
   ]
  },
  {
   "cell_type": "markdown",
   "metadata": {},
   "source": [
    "SVR"
   ]
  },
  {
   "cell_type": "code",
   "execution_count": 118,
   "metadata": {},
   "outputs": [
    {
     "data": {
      "text/plain": [
       "0.1252121691026154"
      ]
     },
     "execution_count": 118,
     "metadata": {},
     "output_type": "execute_result"
    }
   ],
   "source": [
    "model = SVR()\n",
    "model.fit(X_train, y_train)\n",
    "y_pred = model.predict(X_test)\n",
    "score(y_test, y_pred)"
   ]
  },
  {
   "cell_type": "markdown",
   "metadata": {},
   "source": [
    "KNN"
   ]
  },
  {
   "cell_type": "code",
   "execution_count": 120,
   "metadata": {},
   "outputs": [
    {
     "data": {
      "text/plain": [
       "0.12352234980473079"
      ]
     },
     "execution_count": 120,
     "metadata": {},
     "output_type": "execute_result"
    }
   ],
   "source": [
    "model = KNeighborsRegressor()\n",
    "model.fit(X_train, y_train)\n",
    "y_pred = model.predict(X_test)\n",
    "score(y_test, y_pred)"
   ]
  },
  {
   "cell_type": "markdown",
   "metadata": {},
   "source": [
    "NN"
   ]
  },
  {
   "cell_type": "code",
   "execution_count": 140,
   "metadata": {},
   "outputs": [],
   "source": [
    "def get_nn():\n",
    "    model = keras.models.Sequential()\n",
    "    model.add(keras.layers.Dense(512, input_dim=13, activation=\"relu\"))\n",
    "    model.add(keras.layers.Dropout(0.2))\n",
    "    model.add(keras.layers.Dense(512, activation=\"relu\"))\n",
    "    model.add(keras.layers.Dropout(0.2))\n",
    "    model.add(keras.layers.Dense(1))\n",
    "    model.compile(loss=\"mean_squared_error\", optimizer=\"adam\")\n",
    "    return model"
   ]
  },
  {
   "cell_type": "code",
   "execution_count": 141,
   "metadata": {},
   "outputs": [],
   "source": [
    "X_train = np.asarray(X_train).astype('float32')\n",
    "X_test = np.asarray(X_test).astype('float32')"
   ]
  },
  {
   "cell_type": "code",
   "execution_count": 142,
   "metadata": {
    "collapsed": true,
    "jupyter": {
     "outputs_hidden": true
    },
    "tags": []
   },
   "outputs": [
    {
     "name": "stdout",
     "output_type": "stream",
     "text": [
      "Epoch 1/200\n",
      "24/24 [==============================] - 1s 23ms/step - loss: 1185.0539\n",
      "Epoch 2/200\n",
      "24/24 [==============================] - 1s 23ms/step - loss: 248.3808\n",
      "Epoch 3/200\n",
      "24/24 [==============================] - 1s 24ms/step - loss: 165.9433\n",
      "Epoch 4/200\n",
      "24/24 [==============================] - 1s 22ms/step - loss: 134.0737\n",
      "Epoch 5/200\n",
      "24/24 [==============================] - 1s 24ms/step - loss: 116.8698\n",
      "Epoch 6/200\n",
      "24/24 [==============================] - 1s 23ms/step - loss: 102.2886\n",
      "Epoch 7/200\n",
      "24/24 [==============================] - 1s 23ms/step - loss: 90.8676\n",
      "Epoch 8/200\n",
      "24/24 [==============================] - 1s 23ms/step - loss: 84.2863\n",
      "Epoch 9/200\n",
      "24/24 [==============================] - 1s 23ms/step - loss: 78.7133 0s - loss: 7\n",
      "Epoch 10/200\n",
      "24/24 [==============================] - 1s 21ms/step - loss: 75.9501\n",
      "Epoch 11/200\n",
      "24/24 [==============================] - 1s 22ms/step - loss: 73.6024\n",
      "Epoch 12/200\n",
      "24/24 [==============================] - 1s 25ms/step - loss: 72.0154\n",
      "Epoch 13/200\n",
      "24/24 [==============================] - 1s 21ms/step - loss: 72.4136\n",
      "Epoch 14/200\n",
      "24/24 [==============================] - 1s 22ms/step - loss: 70.8569\n",
      "Epoch 15/200\n",
      "24/24 [==============================] - 1s 22ms/step - loss: 70.1560\n",
      "Epoch 16/200\n",
      "24/24 [==============================] - 1s 23ms/step - loss: 69.9215\n",
      "Epoch 17/200\n",
      "24/24 [==============================] - 1s 21ms/step - loss: 70.1067\n",
      "Epoch 18/200\n",
      "24/24 [==============================] - 1s 23ms/step - loss: 68.3899 0s - loss: 6\n",
      "Epoch 19/200\n",
      "24/24 [==============================] - 1s 23ms/step - loss: 68.5399\n",
      "Epoch 20/200\n",
      "24/24 [==============================] - 1s 25ms/step - loss: 68.1846\n",
      "Epoch 21/200\n",
      "24/24 [==============================] - 1s 23ms/step - loss: 66.8950\n",
      "Epoch 22/200\n",
      "24/24 [==============================] - 1s 25ms/step - loss: 70.4301\n",
      "Epoch 23/200\n",
      "24/24 [==============================] - 1s 23ms/step - loss: 66.8917\n",
      "Epoch 24/200\n",
      "24/24 [==============================] - 1s 26ms/step - loss: 67.4280\n",
      "Epoch 25/200\n",
      "24/24 [==============================] - 1s 23ms/step - loss: 67.2149\n",
      "Epoch 26/200\n",
      "24/24 [==============================] - 1s 22ms/step - loss: 66.6536\n",
      "Epoch 27/200\n",
      "24/24 [==============================] - 1s 22ms/step - loss: 65.2877\n",
      "Epoch 28/200\n",
      "24/24 [==============================] - 1s 23ms/step - loss: 66.0129\n",
      "Epoch 29/200\n",
      "24/24 [==============================] - 1s 24ms/step - loss: 65.4898\n",
      "Epoch 30/200\n",
      "24/24 [==============================] - 1s 24ms/step - loss: 66.6373\n",
      "Epoch 31/200\n",
      "24/24 [==============================] - 1s 22ms/step - loss: 63.3556\n",
      "Epoch 32/200\n",
      "24/24 [==============================] - 1s 22ms/step - loss: 65.6741\n",
      "Epoch 33/200\n",
      "24/24 [==============================] - 1s 22ms/step - loss: 66.3129\n",
      "Epoch 34/200\n",
      "24/24 [==============================] - 1s 22ms/step - loss: 65.9038\n",
      "Epoch 35/200\n",
      "24/24 [==============================] - 1s 22ms/step - loss: 64.8056\n",
      "Epoch 36/200\n",
      "24/24 [==============================] - 1s 24ms/step - loss: 64.8802\n",
      "Epoch 37/200\n",
      "24/24 [==============================] - 1s 23ms/step - loss: 67.1681\n",
      "Epoch 38/200\n",
      "24/24 [==============================] - 1s 23ms/step - loss: 64.7222\n",
      "Epoch 39/200\n",
      "24/24 [==============================] - 1s 23ms/step - loss: 63.5863\n",
      "Epoch 40/200\n",
      "24/24 [==============================] - 1s 23ms/step - loss: 66.1963\n",
      "Epoch 41/200\n",
      "24/24 [==============================] - 1s 23ms/step - loss: 64.5147\n",
      "Epoch 42/200\n",
      "24/24 [==============================] - 1s 23ms/step - loss: 63.4346\n",
      "Epoch 43/200\n",
      "24/24 [==============================] - 1s 22ms/step - loss: 65.2931\n",
      "Epoch 44/200\n",
      "24/24 [==============================] - 1s 23ms/step - loss: 64.7120\n",
      "Epoch 45/200\n",
      "24/24 [==============================] - 1s 23ms/step - loss: 63.6658\n",
      "Epoch 46/200\n",
      "24/24 [==============================] - 1s 23ms/step - loss: 63.6184\n",
      "Epoch 47/200\n",
      "24/24 [==============================] - 1s 23ms/step - loss: 62.7843\n",
      "Epoch 48/200\n",
      "24/24 [==============================] - 1s 23ms/step - loss: 62.4031\n",
      "Epoch 49/200\n",
      "24/24 [==============================] - 1s 23ms/step - loss: 65.5407\n",
      "Epoch 50/200\n",
      "24/24 [==============================] - 1s 24ms/step - loss: 63.7498\n",
      "Epoch 51/200\n",
      "24/24 [==============================] - 1s 22ms/step - loss: 63.9969\n",
      "Epoch 52/200\n",
      "24/24 [==============================] - 1s 22ms/step - loss: 64.8735\n",
      "Epoch 53/200\n",
      "24/24 [==============================] - 1s 23ms/step - loss: 65.5616\n",
      "Epoch 54/200\n",
      "24/24 [==============================] - 1s 23ms/step - loss: 61.4201\n",
      "Epoch 55/200\n",
      "24/24 [==============================] - 1s 24ms/step - loss: 62.6492\n",
      "Epoch 56/200\n",
      "24/24 [==============================] - 1s 23ms/step - loss: 64.4010\n",
      "Epoch 57/200\n",
      "24/24 [==============================] - 1s 23ms/step - loss: 64.7173\n",
      "Epoch 58/200\n",
      "24/24 [==============================] - 1s 23ms/step - loss: 63.1903\n",
      "Epoch 59/200\n",
      "24/24 [==============================] - 1s 24ms/step - loss: 62.5036\n",
      "Epoch 60/200\n",
      "24/24 [==============================] - 1s 22ms/step - loss: 63.5675\n",
      "Epoch 61/200\n",
      "24/24 [==============================] - 1s 23ms/step - loss: 63.7979\n",
      "Epoch 62/200\n",
      "24/24 [==============================] - 1s 24ms/step - loss: 62.5411\n",
      "Epoch 63/200\n",
      "24/24 [==============================] - 1s 24ms/step - loss: 63.9227\n",
      "Epoch 64/200\n",
      "24/24 [==============================] - 1s 26ms/step - loss: 62.3361 0s - loss: 62.\n",
      "Epoch 65/200\n",
      "24/24 [==============================] - 1s 26ms/step - loss: 61.6115\n",
      "Epoch 66/200\n",
      "24/24 [==============================] - 1s 24ms/step - loss: 63.1786\n",
      "Epoch 67/200\n",
      "24/24 [==============================] - 1s 23ms/step - loss: 63.1187\n",
      "Epoch 68/200\n",
      "24/24 [==============================] - 1s 24ms/step - loss: 64.6385\n",
      "Epoch 69/200\n",
      "24/24 [==============================] - 1s 23ms/step - loss: 63.0824\n",
      "Epoch 70/200\n",
      "24/24 [==============================] - 1s 24ms/step - loss: 64.1875\n",
      "Epoch 71/200\n",
      "24/24 [==============================] - 1s 23ms/step - loss: 64.0236\n",
      "Epoch 72/200\n",
      "24/24 [==============================] - 1s 23ms/step - loss: 61.3145\n",
      "Epoch 73/200\n",
      "24/24 [==============================] - 1s 24ms/step - loss: 61.6608\n",
      "Epoch 74/200\n",
      "24/24 [==============================] - 1s 24ms/step - loss: 61.2816\n",
      "Epoch 75/200\n",
      "24/24 [==============================] - 1s 23ms/step - loss: 62.5778\n",
      "Epoch 76/200\n",
      "24/24 [==============================] - 1s 24ms/step - loss: 61.3901\n",
      "Epoch 77/200\n",
      "24/24 [==============================] - 1s 23ms/step - loss: 62.8523\n",
      "Epoch 78/200\n",
      "24/24 [==============================] - 1s 25ms/step - loss: 60.6536\n",
      "Epoch 79/200\n",
      "24/24 [==============================] - 1s 24ms/step - loss: 63.9005\n",
      "Epoch 80/200\n",
      "24/24 [==============================] - 1s 24ms/step - loss: 61.0263\n",
      "Epoch 81/200\n",
      "24/24 [==============================] - 1s 23ms/step - loss: 59.9145\n",
      "Epoch 82/200\n",
      "24/24 [==============================] - 1s 23ms/step - loss: 61.9046\n",
      "Epoch 83/200\n",
      "24/24 [==============================] - 1s 27ms/step - loss: 62.8081\n",
      "Epoch 84/200\n",
      "24/24 [==============================] - 1s 25ms/step - loss: 62.4284\n",
      "Epoch 85/200\n",
      "24/24 [==============================] - 1s 24ms/step - loss: 60.4200\n",
      "Epoch 86/200\n",
      "24/24 [==============================] - 1s 24ms/step - loss: 60.5888\n",
      "Epoch 87/200\n",
      "24/24 [==============================] - 1s 23ms/step - loss: 61.1498\n",
      "Epoch 88/200\n",
      "24/24 [==============================] - 1s 23ms/step - loss: 60.3509\n",
      "Epoch 89/200\n",
      "24/24 [==============================] - 1s 24ms/step - loss: 60.4890\n",
      "Epoch 90/200\n",
      "24/24 [==============================] - 1s 25ms/step - loss: 59.6148\n",
      "Epoch 91/200\n",
      "24/24 [==============================] - 1s 24ms/step - loss: 60.9275\n",
      "Epoch 92/200\n",
      "24/24 [==============================] - 1s 24ms/step - loss: 61.5029\n",
      "Epoch 93/200\n",
      "24/24 [==============================] - 1s 25ms/step - loss: 61.7350\n",
      "Epoch 94/200\n",
      "24/24 [==============================] - 1s 26ms/step - loss: 59.4087\n",
      "Epoch 95/200\n",
      "24/24 [==============================] - 1s 26ms/step - loss: 60.9132\n",
      "Epoch 96/200\n",
      "24/24 [==============================] - 1s 25ms/step - loss: 62.7606\n",
      "Epoch 97/200\n",
      "24/24 [==============================] - 1s 24ms/step - loss: 58.6303\n",
      "Epoch 98/200\n",
      "24/24 [==============================] - 1s 23ms/step - loss: 61.4743\n",
      "Epoch 99/200\n",
      "24/24 [==============================] - 1s 24ms/step - loss: 60.9352\n",
      "Epoch 100/200\n",
      "24/24 [==============================] - 1s 24ms/step - loss: 60.9316 0s - loss: 60.\n",
      "Epoch 101/200\n",
      "24/24 [==============================] - 1s 24ms/step - loss: 58.2733\n",
      "Epoch 102/200\n",
      "24/24 [==============================] - 1s 25ms/step - loss: 60.5296\n",
      "Epoch 103/200\n",
      "24/24 [==============================] - 1s 24ms/step - loss: 59.3216\n",
      "Epoch 104/200\n",
      "24/24 [==============================] - 1s 24ms/step - loss: 61.7586\n",
      "Epoch 105/200\n",
      "24/24 [==============================] - 1s 23ms/step - loss: 60.6384 0s - l\n",
      "Epoch 106/200\n",
      "24/24 [==============================] - 1s 24ms/step - loss: 62.6117\n",
      "Epoch 107/200\n",
      "24/24 [==============================] - 1s 23ms/step - loss: 58.3841\n",
      "Epoch 108/200\n",
      "24/24 [==============================] - 1s 23ms/step - loss: 59.4989 0s - l\n",
      "Epoch 109/200\n",
      "24/24 [==============================] - 1s 23ms/step - loss: 61.2352\n",
      "Epoch 110/200\n",
      "24/24 [==============================] - 1s 23ms/step - loss: 59.4157\n",
      "Epoch 111/200\n",
      "24/24 [==============================] - 1s 24ms/step - loss: 61.6664 0s - loss: 61.72\n",
      "Epoch 112/200\n",
      "24/24 [==============================] - 1s 23ms/step - loss: 61.6846\n",
      "Epoch 113/200\n",
      "24/24 [==============================] - 1s 23ms/step - loss: 60.2069\n",
      "Epoch 114/200\n",
      "24/24 [==============================] - 1s 23ms/step - loss: 59.6829\n",
      "Epoch 115/200\n",
      "24/24 [==============================] - 1s 23ms/step - loss: 62.7194\n",
      "Epoch 116/200\n",
      "24/24 [==============================] - 1s 23ms/step - loss: 59.5479\n",
      "Epoch 117/200\n",
      "24/24 [==============================] - 1s 23ms/step - loss: 60.8135\n",
      "Epoch 118/200\n",
      "24/24 [==============================] - 1s 23ms/step - loss: 58.3243 0s - loss: 58.26\n",
      "Epoch 119/200\n",
      "24/24 [==============================] - 1s 23ms/step - loss: 62.1536\n",
      "Epoch 120/200\n",
      "24/24 [==============================] - 1s 23ms/step - loss: 61.1410\n",
      "Epoch 121/200\n",
      "24/24 [==============================] - 1s 23ms/step - loss: 60.0543\n",
      "Epoch 122/200\n",
      "24/24 [==============================] - 1s 23ms/step - loss: 60.9325\n",
      "Epoch 123/200\n",
      "24/24 [==============================] - 1s 23ms/step - loss: 58.1789\n",
      "Epoch 124/200\n",
      "24/24 [==============================] - 1s 26ms/step - loss: 58.4868 0s - los\n",
      "Epoch 125/200\n",
      "24/24 [==============================] - 1s 25ms/step - loss: 60.8686\n",
      "Epoch 126/200\n",
      "24/24 [==============================] - 1s 27ms/step - loss: 59.1400\n",
      "Epoch 127/200\n",
      "24/24 [==============================] - 1s 29ms/step - loss: 58.8777\n",
      "Epoch 128/200\n",
      "24/24 [==============================] - 1s 26ms/step - loss: 58.7843\n",
      "Epoch 129/200\n",
      "24/24 [==============================] - 1s 23ms/step - loss: 59.3588\n",
      "Epoch 130/200\n",
      "24/24 [==============================] - 1s 23ms/step - loss: 59.1217\n",
      "Epoch 131/200\n",
      "24/24 [==============================] - 1s 23ms/step - loss: 58.8887\n",
      "Epoch 132/200\n",
      "24/24 [==============================] - 1s 25ms/step - loss: 63.1131\n",
      "Epoch 133/200\n",
      "24/24 [==============================] - 1s 39ms/step - loss: 59.6200\n",
      "Epoch 134/200\n",
      "24/24 [==============================] - 1s 30ms/step - loss: 62.4896\n",
      "Epoch 135/200\n",
      "24/24 [==============================] - 1s 28ms/step - loss: 62.8527\n",
      "Epoch 136/200\n",
      "24/24 [==============================] - 1s 27ms/step - loss: 60.6151 0s - loss:\n",
      "Epoch 137/200\n",
      "24/24 [==============================] - 1s 25ms/step - loss: 56.9119\n",
      "Epoch 138/200\n",
      "24/24 [==============================] - 1s 26ms/step - loss: 60.3181\n",
      "Epoch 139/200\n",
      "24/24 [==============================] - 1s 23ms/step - loss: 60.0089\n",
      "Epoch 140/200\n",
      "24/24 [==============================] - 1s 23ms/step - loss: 59.1938\n",
      "Epoch 141/200\n",
      "24/24 [==============================] - 1s 23ms/step - loss: 57.7481\n",
      "Epoch 142/200\n",
      "24/24 [==============================] - 1s 22ms/step - loss: 58.5564\n",
      "Epoch 143/200\n",
      "24/24 [==============================] - 1s 23ms/step - loss: 58.4264\n",
      "Epoch 144/200\n",
      "24/24 [==============================] - 1s 25ms/step - loss: 58.1038\n",
      "Epoch 145/200\n",
      "24/24 [==============================] - 1s 26ms/step - loss: 57.3077\n",
      "Epoch 146/200\n",
      "24/24 [==============================] - 1s 25ms/step - loss: 58.9226\n",
      "Epoch 147/200\n",
      "24/24 [==============================] - 1s 26ms/step - loss: 58.8270\n",
      "Epoch 148/200\n",
      "24/24 [==============================] - 1s 25ms/step - loss: 57.8573\n",
      "Epoch 149/200\n",
      "24/24 [==============================] - 1s 26ms/step - loss: 58.6798\n",
      "Epoch 150/200\n",
      "24/24 [==============================] - 1s 26ms/step - loss: 56.3493\n",
      "Epoch 151/200\n",
      "24/24 [==============================] - 1s 27ms/step - loss: 56.3497\n",
      "Epoch 152/200\n",
      "24/24 [==============================] - 1s 27ms/step - loss: 58.3042\n",
      "Epoch 153/200\n",
      "24/24 [==============================] - 1s 29ms/step - loss: 58.7652\n",
      "Epoch 154/200\n",
      "24/24 [==============================] - 1s 25ms/step - loss: 59.4684\n",
      "Epoch 155/200\n",
      "24/24 [==============================] - 1s 28ms/step - loss: 58.3384\n",
      "Epoch 156/200\n",
      "24/24 [==============================] - 1s 24ms/step - loss: 58.2403\n",
      "Epoch 157/200\n",
      "24/24 [==============================] - 1s 23ms/step - loss: 57.0905\n",
      "Epoch 158/200\n",
      "24/24 [==============================] - 1s 26ms/step - loss: 59.2559\n",
      "Epoch 159/200\n",
      "24/24 [==============================] - 1s 23ms/step - loss: 59.2534\n",
      "Epoch 160/200\n",
      "24/24 [==============================] - 1s 25ms/step - loss: 59.2400\n",
      "Epoch 161/200\n",
      "24/24 [==============================] - 1s 27ms/step - loss: 58.8506\n",
      "Epoch 162/200\n",
      "24/24 [==============================] - 1s 24ms/step - loss: 58.9842\n",
      "Epoch 163/200\n",
      "24/24 [==============================] - 1s 26ms/step - loss: 57.3948\n",
      "Epoch 164/200\n",
      "24/24 [==============================] - 1s 28ms/step - loss: 57.7439\n",
      "Epoch 165/200\n",
      "24/24 [==============================] - 1s 27ms/step - loss: 58.7605\n",
      "Epoch 166/200\n",
      "24/24 [==============================] - 1s 28ms/step - loss: 57.6551 0s - los\n",
      "Epoch 167/200\n",
      "24/24 [==============================] - 1s 28ms/step - loss: 58.0951\n",
      "Epoch 168/200\n",
      "24/24 [==============================] - 1s 25ms/step - loss: 57.4878\n",
      "Epoch 169/200\n",
      "24/24 [==============================] - 1s 25ms/step - loss: 57.3680\n",
      "Epoch 170/200\n",
      "24/24 [==============================] - 1s 23ms/step - loss: 57.9875\n",
      "Epoch 171/200\n",
      "24/24 [==============================] - 1s 23ms/step - loss: 58.1988\n",
      "Epoch 172/200\n",
      "24/24 [==============================] - 1s 23ms/step - loss: 56.6296\n",
      "Epoch 173/200\n",
      "24/24 [==============================] - 1s 26ms/step - loss: 57.0652\n",
      "Epoch 174/200\n",
      "24/24 [==============================] - 1s 24ms/step - loss: 57.7151\n",
      "Epoch 175/200\n",
      "24/24 [==============================] - 1s 25ms/step - loss: 57.2061\n",
      "Epoch 176/200\n",
      "24/24 [==============================] - 1s 24ms/step - loss: 56.6657\n",
      "Epoch 177/200\n",
      "24/24 [==============================] - 1s 23ms/step - loss: 57.9541\n",
      "Epoch 178/200\n",
      "24/24 [==============================] - 1s 23ms/step - loss: 58.7076 0s - l\n",
      "Epoch 179/200\n",
      "24/24 [==============================] - 1s 24ms/step - loss: 57.6039\n",
      "Epoch 180/200\n",
      "24/24 [==============================] - 1s 25ms/step - loss: 55.8748\n",
      "Epoch 181/200\n",
      "24/24 [==============================] - 1s 26ms/step - loss: 57.6945\n",
      "Epoch 182/200\n",
      "24/24 [==============================] - 1s 24ms/step - loss: 57.3428\n",
      "Epoch 183/200\n",
      "24/24 [==============================] - 1s 26ms/step - loss: 58.7681\n",
      "Epoch 184/200\n",
      "24/24 [==============================] - 1s 25ms/step - loss: 58.3424\n",
      "Epoch 185/200\n",
      "24/24 [==============================] - 1s 24ms/step - loss: 60.2617\n",
      "Epoch 186/200\n",
      "24/24 [==============================] - 1s 24ms/step - loss: 58.3620\n",
      "Epoch 187/200\n",
      "24/24 [==============================] - 1s 23ms/step - loss: 58.6534\n",
      "Epoch 188/200\n",
      "24/24 [==============================] - 1s 25ms/step - loss: 57.6308\n",
      "Epoch 189/200\n",
      "24/24 [==============================] - 1s 23ms/step - loss: 58.0780\n",
      "Epoch 190/200\n",
      "24/24 [==============================] - 1s 25ms/step - loss: 58.3640\n",
      "Epoch 191/200\n",
      "24/24 [==============================] - 1s 24ms/step - loss: 57.8606\n",
      "Epoch 192/200\n",
      "24/24 [==============================] - 1s 24ms/step - loss: 57.3952\n",
      "Epoch 193/200\n",
      "24/24 [==============================] - 1s 25ms/step - loss: 58.3653\n",
      "Epoch 194/200\n",
      "24/24 [==============================] - 1s 24ms/step - loss: 58.8561\n",
      "Epoch 195/200\n",
      "24/24 [==============================] - 1s 24ms/step - loss: 57.5615\n",
      "Epoch 196/200\n",
      "24/24 [==============================] - 1s 23ms/step - loss: 59.7347\n",
      "Epoch 197/200\n",
      "24/24 [==============================] - 1s 26ms/step - loss: 56.6759\n",
      "Epoch 198/200\n",
      "24/24 [==============================] - 1s 24ms/step - loss: 59.4424\n",
      "Epoch 199/200\n",
      "24/24 [==============================] - 1s 26ms/step - loss: 58.3565\n",
      "Epoch 200/200\n",
      "24/24 [==============================] - 1s 24ms/step - loss: 57.9355\n"
     ]
    },
    {
     "data": {
      "text/plain": [
       "<tensorflow.python.keras.callbacks.History at 0x1988a2a5b48>"
      ]
     },
     "execution_count": 142,
     "metadata": {},
     "output_type": "execute_result"
    }
   ],
   "source": [
    "model = get_nn()\n",
    "model.fit(X_train, y_train, epochs=200, batch_size=1024)"
   ]
  },
  {
   "cell_type": "code",
   "execution_count": 143,
   "metadata": {},
   "outputs": [
    {
     "data": {
      "text/plain": [
       "0.13548694417676238"
      ]
     },
     "execution_count": 143,
     "metadata": {},
     "output_type": "execute_result"
    }
   ],
   "source": [
    "y_pred = model.predict(X_test)\n",
    "score(y_test, y_pred)"
   ]
  },
  {
   "cell_type": "markdown",
   "metadata": {},
   "source": [
    "CatBoost showed better result"
   ]
  },
  {
   "cell_type": "markdown",
   "metadata": {},
   "source": [
    "### Next part should be parameters tuning, but in my original solution I didn't done that because I was out of time"
   ]
  },
  {
   "cell_type": "markdown",
   "metadata": {},
   "source": [
    "# Final training"
   ]
  },
  {
   "cell_type": "code",
   "execution_count": 146,
   "metadata": {},
   "outputs": [],
   "source": [
    "X_train = train.drop([\"age\", \"uid\"], axis=1)"
   ]
  },
  {
   "cell_type": "code",
   "execution_count": 147,
   "metadata": {},
   "outputs": [],
   "source": [
    "y_train = train.age"
   ]
  },
  {
   "cell_type": "code",
   "execution_count": 148,
   "metadata": {},
   "outputs": [],
   "source": [
    "scaler = MinMaxScaler()\n",
    "X_train = scaler.fit_transform(X_train)"
   ]
  },
  {
   "cell_type": "code",
   "execution_count": 149,
   "metadata": {},
   "outputs": [],
   "source": [
    "with open(\"scaler.pkl\", \"wb\") as fout:\n",
    "    pickle.dump(scaler, fout)"
   ]
  },
  {
   "cell_type": "code",
   "execution_count": 150,
   "metadata": {},
   "outputs": [],
   "source": [
    "model = CatBoostRegressor(verbose=0)"
   ]
  },
  {
   "cell_type": "code",
   "execution_count": 151,
   "metadata": {},
   "outputs": [
    {
     "data": {
      "text/plain": [
       "<catboost.core.CatBoostRegressor at 0x19889cde9c8>"
      ]
     },
     "execution_count": 151,
     "metadata": {},
     "output_type": "execute_result"
    }
   ],
   "source": [
    "model.fit(X_train, y_train)"
   ]
  },
  {
   "cell_type": "code",
   "execution_count": 152,
   "metadata": {},
   "outputs": [],
   "source": [
    "model.save_model(\"model\")"
   ]
  },
  {
   "cell_type": "code",
   "execution_count": null,
   "metadata": {},
   "outputs": [],
   "source": []
  }
 ],
 "metadata": {
  "kernelspec": {
   "display_name": "Python 3",
   "language": "python",
   "name": "python3"
  },
  "language_info": {
   "codemirror_mode": {
    "name": "ipython",
    "version": 3
   },
   "file_extension": ".py",
   "mimetype": "text/x-python",
   "name": "python",
   "nbconvert_exporter": "python",
   "pygments_lexer": "ipython3",
   "version": "3.7.5"
  }
 },
 "nbformat": 4,
 "nbformat_minor": 4
}
